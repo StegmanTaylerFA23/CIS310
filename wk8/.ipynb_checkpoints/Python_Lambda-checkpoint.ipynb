{
 "cells": [
  {
   "cell_type": "markdown",
   "metadata": {},
   "source": [
    "# Tayler Stegman'\n",
    "## Week 9 - 10/12/2023\n",
    "\n",
    "Python - lambda function, higher-order functions: map(), filter(), and reduce()"
   ]
  },
  {
   "cell_type": "code",
   "execution_count": 1,
   "metadata": {},
   "outputs": [
    {
     "data": {
      "text/plain": [
       "12"
      ]
     },
     "execution_count": 1,
     "metadata": {},
     "output_type": "execute_result"
    }
   ],
   "source": [
    "'''\n",
    "A lambda function is a small anonymous function.\n",
    "It can take any number of arguments, but can only have one expression.\n",
    "Generally used when a function is needed temporarily for a short period of time\n",
    "\n",
    "You can store the lambda function in a variable.\n",
    "Format:\n",
    "\n",
    "lamda arguments: expression\n",
    "'''\n",
    "\n",
    "def double(num):\n",
    "    return num*2\n",
    "\n",
    "double(6)"
   ]
  },
  {
   "cell_type": "code",
   "execution_count": 2,
   "metadata": {},
   "outputs": [
    {
     "data": {
      "text/plain": [
       "25"
      ]
     },
     "execution_count": 2,
     "metadata": {},
     "output_type": "execute_result"
    }
   ],
   "source": [
    "def square(x):\n",
    "    return x**2\n",
    "\n",
    "square(5)"
   ]
  },
  {
   "cell_type": "code",
   "execution_count": 3,
   "metadata": {},
   "outputs": [
    {
     "name": "stdout",
     "output_type": "stream",
     "text": [
      "12\n"
     ]
    }
   ],
   "source": [
    "#anonymous due to no function name\n",
    "double = lambda x:x*2\n",
    "print(double(6))"
   ]
  },
  {
   "cell_type": "code",
   "execution_count": 4,
   "metadata": {},
   "outputs": [
    {
     "name": "stdout",
     "output_type": "stream",
     "text": [
      "36\n"
     ]
    }
   ],
   "source": [
    "square = lambda x:x**2\n",
    "print(square(6))"
   ]
  },
  {
   "cell_type": "code",
   "execution_count": 5,
   "metadata": {},
   "outputs": [
    {
     "name": "stdout",
     "output_type": "stream",
     "text": [
      "8\n"
     ]
    }
   ],
   "source": [
    "larger = lambda a, b: a if a > b else b\n",
    "\n",
    "print(larger(5,8))"
   ]
  },
  {
   "cell_type": "code",
   "execution_count": 16,
   "metadata": {},
   "outputs": [
    {
     "data": {
      "text/plain": [
       "[1.18, 25.44, 62.47, 4.92, 7.32]"
      ]
     },
     "execution_count": 16,
     "metadata": {},
     "output_type": "execute_result"
    }
   ],
   "source": [
    "#higher-order function map()\n",
    "'''\n",
    "map() is useful when you need to apply a transformation function\n",
    "to each item in an iterable and transform them into a new iterable.\n",
    "\n",
    "A function can be assigned to a variable\n",
    "\n",
    "map(function, iterable[, iterable1, iterable2,.......iterableN])\n",
    "it returns the map() object\n",
    "'''\n",
    "txns = [1.09, 23.56, 57.84, 4.56, 6.78]\n",
    "TAX_RATE = 0.08\n",
    "\n",
    "def get_price_with_tax(txn):\n",
    "    return round(txn * (1 + TAX_RATE),2)\n",
    "\n",
    "# withouth lambda -> final_prices = [round(get_price_with_tax(txn), 2) for txn in txns]\n",
    "\n",
    "final_prices = map(get_price_with_tax, txns)\n",
    "list(final_prices)"
   ]
  },
  {
   "cell_type": "code",
   "execution_count": 17,
   "metadata": {},
   "outputs": [
    {
     "data": {
      "text/plain": [
       "[1, 4, 9, 16, 25, 36, 49]"
      ]
     },
     "execution_count": 17,
     "metadata": {},
     "output_type": "execute_result"
    }
   ],
   "source": [
    "def square(number):\n",
    "    return number**2\n",
    "\n",
    "nums = [1,2,3,4,5,6,7]\n",
    "\n",
    "list(map(square,nums))"
   ]
  },
  {
   "cell_type": "code",
   "execution_count": 20,
   "metadata": {},
   "outputs": [
    {
     "data": {
      "text/plain": [
       "[1, 4, 9, 16, 25, 36, 49]"
      ]
     },
     "execution_count": 20,
     "metadata": {},
     "output_type": "execute_result"
    }
   ],
   "source": [
    "list(map(lambda x:x**2,nums))"
   ]
  },
  {
   "cell_type": "code",
   "execution_count": 31,
   "metadata": {},
   "outputs": [
    {
     "data": {
      "text/plain": [
       "['even', 'even', 'odd', 'odd', 'odd', 'odd']"
      ]
     },
     "execution_count": 31,
     "metadata": {},
     "output_type": "execute_result"
    }
   ],
   "source": [
    "words = ['Ford','Nissan','GMC','Mazda','Dodge','BMW']\n",
    "\n",
    "list(map(lambda w: 'even' if len(w)%2 == 0 else 'odd',words))"
   ]
  },
  {
   "cell_type": "code",
   "execution_count": 33,
   "metadata": {},
   "outputs": [
    {
     "data": {
      "text/plain": [
       "<function __main__.<lambda>(w)>"
      ]
     },
     "execution_count": 33,
     "metadata": {},
     "output_type": "execute_result"
    }
   ],
   "source": [
    "word = 'Ford'\n",
    "\n",
    "y = lambda w: 'even' if len(w)%2 == 0 else 'odd'\n",
    "y"
   ]
  },
  {
   "cell_type": "code",
   "execution_count": null,
   "metadata": {},
   "outputs": [],
   "source": []
  }
 ],
 "metadata": {
  "kernelspec": {
   "display_name": "Python 3.7 - default",
   "language": "python",
   "name": "py37_default"
  },
  "language_info": {
   "codemirror_mode": {
    "name": "ipython",
    "version": 3
   },
   "file_extension": ".py",
   "mimetype": "text/x-python",
   "name": "python",
   "nbconvert_exporter": "python",
   "pygments_lexer": "ipython3",
   "version": "3.7.7"
  }
 },
 "nbformat": 4,
 "nbformat_minor": 4
}
