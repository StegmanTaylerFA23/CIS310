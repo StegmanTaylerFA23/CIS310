{
 "cells": [
  {
   "cell_type": "markdown",
   "metadata": {},
   "source": [
    "# Tayler Stegman\n",
    "## Week 7 10/08/2023\n",
    "### Python Functions"
   ]
  },
  {
   "cell_type": "markdown",
   "metadata": {},
   "source": [
    "**Python Function Format**\n",
    "<code> def function_name(args):\n",
    "    '''\n",
    "    docstring(Document String) - This is where you describe a function\n",
    "    '''\n",
    "    #statements(s) <code/>"
   ]
  },
  {
   "cell_type": "code",
   "execution_count": 1,
   "metadata": {},
   "outputs": [],
   "source": [
    "def welcome():\n",
    "    print('Welcome to CIS310!')"
   ]
  },
  {
   "cell_type": "code",
   "execution_count": 3,
   "metadata": {},
   "outputs": [
    {
     "name": "stdout",
     "output_type": "stream",
     "text": [
      "Welcome to CIS310!\n"
     ]
    }
   ],
   "source": [
    "welcome()"
   ]
  },
  {
   "cell_type": "code",
   "execution_count": 4,
   "metadata": {},
   "outputs": [],
   "source": [
    "# functio with a parameter\n",
    "def fun_greet(name):\n",
    "    '''\n",
    "    This function greets a person name passed as parameter THIS IS DOCSTRING\n",
    "    '''\n",
    "    print(f'Hello, {name} Welcome to CIS310!')\n",
    "    "
   ]
  },
  {
   "cell_type": "code",
   "execution_count": 5,
   "metadata": {},
   "outputs": [
    {
     "name": "stdout",
     "output_type": "stream",
     "text": [
      "Hello, 8 Welcome to CIS310!\n"
     ]
    }
   ],
   "source": [
    "fun_greet(8)"
   ]
  },
  {
   "cell_type": "code",
   "execution_count": 6,
   "metadata": {},
   "outputs": [
    {
     "name": "stdout",
     "output_type": "stream",
     "text": [
      "Hello, [0, 3, 'ally'] Welcome to CIS310!\n"
     ]
    }
   ],
   "source": [
    "fun_greet([0,3,'ally'])"
   ]
  },
  {
   "cell_type": "code",
   "execution_count": 7,
   "metadata": {},
   "outputs": [
    {
     "name": "stdout",
     "output_type": "stream",
     "text": [
      "Hello, Alice Welcome to CIS310!\n"
     ]
    }
   ],
   "source": [
    "fun_greet('Alice')"
   ]
  },
  {
   "cell_type": "code",
   "execution_count": 8,
   "metadata": {},
   "outputs": [
    {
     "name": "stdout",
     "output_type": "stream",
     "text": [
      "Hello, Bob Welcome to CIS310!\n"
     ]
    }
   ],
   "source": [
    "fun_greet('Bob')"
   ]
  },
  {
   "cell_type": "code",
   "execution_count": 14,
   "metadata": {},
   "outputs": [
    {
     "name": "stdout",
     "output_type": "stream",
     "text": [
      "Hello, tayler Welcome to CIS310!\n"
     ]
    }
   ],
   "source": [
    "greeting = fun_greet(\"tayler\")"
   ]
  },
  {
   "cell_type": "code",
   "execution_count": 16,
   "metadata": {},
   "outputs": [
    {
     "name": "stdout",
     "output_type": "stream",
     "text": [
      "\n",
      "    This function greets a person name passed as parameter THIS IS DOCSTRING\n",
      "    \n"
     ]
    }
   ],
   "source": [
    "print(fun_greet.__doc__)"
   ]
  },
  {
   "cell_type": "code",
   "execution_count": null,
   "metadata": {},
   "outputs": [],
   "source": []
  }
 ],
 "metadata": {
  "kernelspec": {
   "display_name": "Python 3.7 - default",
   "language": "python",
   "name": "py37_default"
  },
  "language_info": {
   "codemirror_mode": {
    "name": "ipython",
    "version": 3
   },
   "file_extension": ".py",
   "mimetype": "text/x-python",
   "name": "python",
   "nbconvert_exporter": "python",
   "pygments_lexer": "ipython3",
   "version": "3.7.7"
  }
 },
 "nbformat": 4,
 "nbformat_minor": 4
}
