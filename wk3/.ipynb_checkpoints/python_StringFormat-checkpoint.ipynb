{
 "cells": [
  {
   "cell_type": "markdown",
   "metadata": {},
   "source": [
    "# Tayler Stegman\n",
    "## Week 3: 09/05/2023\n",
    "### Formatting Output Using, Sign%, .format() method, and Literals f-strings"
   ]
  },
  {
   "cell_type": "code",
   "execution_count": 2,
   "metadata": {},
   "outputs": [
    {
     "name": "stdout",
     "output_type": "stream",
     "text": [
      "The quick brown cat jumps over the lazy dog\n"
     ]
    }
   ],
   "source": [
    "# percent specifier sign %\n",
    "print(\"The quick brown %s jumps over the lazy dog\" %'cat')"
   ]
  },
  {
   "cell_type": "code",
   "execution_count": 3,
   "metadata": {},
   "outputs": [
    {
     "name": "stdout",
     "output_type": "stream",
     "text": [
      "The quick brown cat jumps over the lazy dog\n"
     ]
    }
   ],
   "source": [
    "n = 'cat'\n",
    "\n",
    "print(\"The quick brown %s jumps over the lazy dog\" %n)"
   ]
  },
  {
   "cell_type": "code",
   "execution_count": 5,
   "metadata": {},
   "outputs": [
    {
     "name": "stdout",
     "output_type": "stream",
     "text": [
      "The quick brown fox jumps over the lazy dog\n"
     ]
    }
   ],
   "source": [
    "print(\"The quick brown %s jumps over the lazy %s\" %('fox','dog'))"
   ]
  },
  {
   "cell_type": "code",
   "execution_count": 6,
   "metadata": {},
   "outputs": [
    {
     "name": "stdout",
     "output_type": "stream",
     "text": [
      "The quick brown fox jumps over the lazy dog\n"
     ]
    }
   ],
   "source": [
    "name1 = 'fox'\n",
    "name2 = 'dog'\n",
    "\n",
    "print(\"The quick brown %s jumps over the lazy %s\" %(name1,name2))"
   ]
  },
  {
   "cell_type": "code",
   "execution_count": 7,
   "metadata": {},
   "outputs": [
    {
     "name": "stdout",
     "output_type": "stream",
     "text": [
      "The quick brown 'fox' jumps over the lazy 'dog'\n"
     ]
    }
   ],
   "source": [
    "print(\"The quick brown %r jumps over the lazy %r\" %(name1,name2))"
   ]
  },
  {
   "cell_type": "code",
   "execution_count": 8,
   "metadata": {},
   "outputs": [
    {
     "name": "stdout",
     "output_type": "stream",
     "text": [
      "The quick brown \tcat jumps over the lazy dog\n"
     ]
    }
   ],
   "source": [
    "print(\"The quick brown %s jumps over the lazy dog\" %'\\tcat')"
   ]
  },
  {
   "cell_type": "code",
   "execution_count": 9,
   "metadata": {},
   "outputs": [
    {
     "name": "stdout",
     "output_type": "stream",
     "text": [
      "My score is 98.88 in CIS310\n"
     ]
    }
   ],
   "source": [
    "# Formatting numbers\n",
    "print('My score is %s in CIS310' %98.88)"
   ]
  },
  {
   "cell_type": "code",
   "execution_count": 10,
   "metadata": {},
   "outputs": [
    {
     "name": "stdout",
     "output_type": "stream",
     "text": [
      "My score is 98 in CIS310\n"
     ]
    }
   ],
   "source": [
    "print('My score is %d in CIS310' %98.88)"
   ]
  },
  {
   "cell_type": "code",
   "execution_count": 13,
   "metadata": {},
   "outputs": [
    {
     "name": "stdout",
     "output_type": "stream",
     "text": [
      "My score is 98 in CIS310\n"
     ]
    }
   ],
   "source": [
    "s = 98.88\n",
    "print('My score is %d in CIS310' %s)"
   ]
  },
  {
   "cell_type": "code",
   "execution_count": 14,
   "metadata": {},
   "outputs": [
    {
     "name": "stdout",
     "output_type": "stream",
     "text": [
      "My score is 98.880000 in CIS310\n"
     ]
    }
   ],
   "source": [
    "s = 98.88\n",
    "print('My score is %f in CIS310' %s)"
   ]
  },
  {
   "cell_type": "code",
   "execution_count": 17,
   "metadata": {},
   "outputs": [
    {
     "name": "stdout",
     "output_type": "stream",
     "text": [
      "My score is 98.88 in CIS310\n"
     ]
    }
   ],
   "source": [
    "s = 98.88\n",
    "print('My score is %5.2f in CIS310' %s)"
   ]
  },
  {
   "cell_type": "code",
   "execution_count": 18,
   "metadata": {},
   "outputs": [
    {
     "name": "stdout",
     "output_type": "stream",
     "text": [
      "My score is  98.9 in CIS310\n"
     ]
    }
   ],
   "source": [
    "print('My score is %5.1f in CIS310' %s)"
   ]
  },
  {
   "cell_type": "code",
   "execution_count": 20,
   "metadata": {},
   "outputs": [
    {
     "name": "stdout",
     "output_type": "stream",
     "text": [
      "My score is       98.9 in CIS310\n"
     ]
    }
   ],
   "source": [
    "print('My score is %10.1f in CIS310' %s)"
   ]
  },
  {
   "cell_type": "code",
   "execution_count": 23,
   "metadata": {},
   "outputs": [
    {
     "name": "stdout",
     "output_type": "stream",
     "text": [
      "I am using general purpose language Python to perform data analysis!\n"
     ]
    }
   ],
   "source": [
    "# Formatting with the .format() method with {}\n",
    "print(\"I am using general purpose language {} to perform data analysis!\".format('Python'))"
   ]
  },
  {
   "cell_type": "code",
   "execution_count": 26,
   "metadata": {},
   "outputs": [
    {
     "name": "stdout",
     "output_type": "stream",
     "text": [
      "The quick brown fox jumps over the lazy dog\n"
     ]
    }
   ],
   "source": [
    "name1, name2 = 'fox','dog'\n",
    "print('The quick {1} {0} jumps over the {3} {2}'.format(name1, 'brown', name2, 'lazy'))"
   ]
  },
  {
   "cell_type": "code",
   "execution_count": 27,
   "metadata": {},
   "outputs": [
    {
     "name": "stdout",
     "output_type": "stream",
     "text": [
      "The quick fox brown jumps over the dog lazy\n"
     ]
    }
   ],
   "source": [
    "print('The quick {} {} jumps over the {} {}'.format(name1, 'brown', name2, 'lazy'))"
   ]
  },
  {
   "cell_type": "code",
   "execution_count": 28,
   "metadata": {},
   "outputs": [
    {
     "name": "stdout",
     "output_type": "stream",
     "text": [
      "The quick lazy dog jumps over the brown fox\n"
     ]
    }
   ],
   "source": [
    "print('The quick {3} {2} jumps over the {1} {0}'.format(name1, 'brown', name2, 'lazy'))"
   ]
  },
  {
   "cell_type": "code",
   "execution_count": 32,
   "metadata": {},
   "outputs": [
    {
     "name": "stdout",
     "output_type": "stream",
     "text": [
      "My current GPA in CIS310:  3.99, and That is A\n"
     ]
    }
   ],
   "source": [
    "gpa = 3.99\n",
    "print(\"My current GPA in CIS310: {0:5.2f}, and {1}\".format(gpa, 'That is A'))"
   ]
  },
  {
   "cell_type": "code",
   "execution_count": 36,
   "metadata": {},
   "outputs": [
    {
     "name": "stdout",
     "output_type": "stream",
     "text": [
      "Food       | Calories \n",
      "Apples     | 3.5      \n",
      "Almonds    | 10.9     \n"
     ]
    }
   ],
   "source": [
    "#index\n",
    "print('{0:10} | {1:9}'.format('Food','Calories'))\n",
    "print('{0:10} | {1:9}'.format('Apples','3.5'))\n",
    "print('{0:10} | {1:9}'.format('Almonds','10.9'))"
   ]
  },
  {
   "cell_type": "code",
   "execution_count": 37,
   "metadata": {},
   "outputs": [
    {
     "name": "stdout",
     "output_type": "stream",
     "text": [
      "Dr. Abdunabi teaches CIS310, CIS350, CIS413, and CIS620 in Fall 2023\n"
     ]
    }
   ],
   "source": [
    "# Formatted String Literals f-strings\n",
    "n = 'Dr. Abdunabi'\n",
    "term = 'Fall 2023'\n",
    "print(f'{n} teaches CIS310, CIS350, CIS413, and CIS620 in {term}')"
   ]
  },
  {
   "cell_type": "code",
   "execution_count": 38,
   "metadata": {},
   "outputs": [],
   "source": [
    "#numbers\n",
    "radius = 2.5\n",
    "area = (radius**2) * 2.141516"
   ]
  },
  {
   "cell_type": "code",
   "execution_count": 48,
   "metadata": {},
   "outputs": [
    {
     "name": "stdout",
     "output_type": "stream",
     "text": [
      "The area for the radius 2.50 is 13.3845\n"
     ]
    }
   ],
   "source": [
    "print(f'The area for the radius{radius: 2.2f} is{area: 3.4f}')"
   ]
  },
  {
   "cell_type": "code",
   "execution_count": 53,
   "metadata": {},
   "outputs": [
    {
     "name": "stdout",
     "output_type": "stream",
     "text": [
      "The value of pi ratio is approximately 3.1416\n"
     ]
    }
   ],
   "source": [
    "import math\n",
    "print(f'The value of pi ratio is approximately {math.pi:2.4f}')"
   ]
  },
  {
   "cell_type": "code",
   "execution_count": 54,
   "metadata": {},
   "outputs": [],
   "source": [
    "area = (radius**2) * math.pi"
   ]
  },
  {
   "cell_type": "code",
   "execution_count": 58,
   "metadata": {},
   "outputs": [
    {
     "name": "stdout",
     "output_type": "stream",
     "text": [
      "Enter your value: 25\n",
      "Your input is 25\n"
     ]
    }
   ],
   "source": [
    "# Python input() function\n",
    "print('Enter your value: ',end='')\n",
    "\n",
    "user_input = input()\n",
    "print(f'Your input is {user_input}')"
   ]
  },
  {
   "cell_type": "code",
   "execution_count": null,
   "metadata": {},
   "outputs": [],
   "source": []
  }
 ],
 "metadata": {
  "kernelspec": {
   "display_name": "Python 3.7 - default",
   "language": "python",
   "name": "py37_default"
  },
  "language_info": {
   "codemirror_mode": {
    "name": "ipython",
    "version": 3
   },
   "file_extension": ".py",
   "mimetype": "text/x-python",
   "name": "python",
   "nbconvert_exporter": "python",
   "pygments_lexer": "ipython3",
   "version": "3.7.7"
  }
 },
 "nbformat": 4,
 "nbformat_minor": 4
}
